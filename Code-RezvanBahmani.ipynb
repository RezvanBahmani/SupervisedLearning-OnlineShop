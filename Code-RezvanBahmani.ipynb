{
 "cells": [
  {
   "cell_type": "code",
   "execution_count": 1,
   "metadata": {},
   "outputs": [],
   "source": [
    "import pandas as pd\n",
    "import numpy as np\n",
    "import matplotlib.pyplot as plt\n",
    "from sklearn.feature_extraction.text import TfidfVectorizer\n",
    "from sklearn.feature_selection import mutual_info_classif\n",
    "from sklearn.feature_selection import mutual_info_regression\n",
    "from sklearn import preprocessing\n",
    "from sklearn.preprocessing import RobustScaler\n",
    "from sklearn.preprocessing import MinMaxScaler\n",
    "from sklearn.preprocessing import LabelEncoder\n",
    "from sklearn.preprocessing import OneHotEncoder\n",
    "from sklearn.model_selection import train_test_split\n",
    "from sklearn.model_selection import GridSearchCV\n",
    "from sklearn.neighbors import KNeighborsRegressor\n",
    "from sklearn.linear_model import LogisticRegression\n",
    "from sklearn.tree import DecisionTreeRegressor\n",
    "from sklearn.ensemble import RandomForestRegressor\n",
    "from sklearn.ensemble import BaggingClassifier\n",
    "from sklearn.ensemble import VotingClassifier\n",
    "from sklearn.metrics import mean_squared_error as MSE\n",
    "\n",
    "day = 'day'\n",
    "product_id = 'product_id'\n",
    "cat_name = 'cat_name'\n",
    "leaf_cat_id = 'leaf_cat_id'\n",
    "live_rate = 'live_rate'\n",
    "product_sat_score = 'product_sat_score'\n",
    "product_sat_count = 'product_sat_count'\n",
    "amazing_day_rate = 'amazing_day_rate'\n",
    "amazing_price_segment = 'amazing_price_segment'\n",
    "amazing_discount = 'amazing_discount' \n",
    "amazing_order_limit = 'amazing_order_limit' \n",
    "amazing_proposed_stock = 'amazing_proposed_stock' \n",
    "promotion_day_rate = 'promotion_day_rate' \n",
    "promotion_price_segment = 'promotion_price_segment' \n",
    "promotion_discount = 'promotion_discount' \n",
    "promotion_order_limit = 'promotion_order_limit' \n",
    "promotion_proposed_stock = 'promotion_proposed_stock' \n",
    "comments_counts_7 = 'comments_counts_7' \n",
    "rec_comments_count_7 = 'rec_comments_count_7' \n",
    "dkp_amazing_notif_count_7 = 'dkp_amazing_notif_count_7' \n",
    "normal_order_limit = 'normal_order_limit' \n",
    "normal_price_segment = 'normal_price_segment' \n",
    "normal_discount = 'normal_discount' \n",
    "holiday = 'holiday' \n",
    "warehouse1_share = 'warehouse1_share' \n",
    "warehouse2_share = 'warehouse2_share' \n",
    "amazing_sold_count = 'amazing_sold_count' \n",
    "promotion_sold_count = 'promotion_sold_count' \n",
    "normal_sold_count = 'normal_sold_count'\n",
    "\n",
    "\n",
    "trainAddress = \"DIGIKALA_TRAIN_DATASET.csv\"\n",
    "testAddress = \"DIGIKALA_TEST_DATASET.csv\"\n",
    "\n",
    "targets = [warehouse1_share,\n",
    "                warehouse2_share,\n",
    "                amazing_sold_count,\n",
    "                promotion_sold_count,\n",
    "                normal_sold_count]\n",
    "\n",
    "AmazingList = [amazing_day_rate,\n",
    "                            amazing_discount,\n",
    "                            amazing_order_limit,\n",
    "                            amazing_price_segment,\n",
    "                            amazing_proposed_stock,\n",
    "                            dkp_amazing_notif_count_7]\n",
    "\n",
    "PromotionList = [promotion_day_rate,\n",
    "                            promotion_discount,\n",
    "                            promotion_order_limit,\n",
    "                            promotion_price_segment,\n",
    "                            promotion_proposed_stock]\n",
    "\n",
    "NormalList = [normal_order_limit,\n",
    "              normal_price_segment,\n",
    "              normal_discount]\n",
    "\n",
    "commonFeatures = [leaf_cat_id,\n",
    "                            live_rate,\n",
    "                            product_sat_score,\n",
    "                            product_sat_count,\n",
    "                            comments_counts_7,\n",
    "                            rec_comments_count_7,\n",
    "                            holiday,\n",
    "                            'CB',\n",
    "                            'CH',\n",
    "                            'CP',\n",
    "                            'FD',\n",
    "                            'FF']"
   ]
  },
  {
   "cell_type": "markdown",
   "metadata": {},
   "source": [
    "# Load Data"
   ]
  },
  {
   "cell_type": "code",
   "execution_count": 2,
   "metadata": {},
   "outputs": [],
   "source": [
    "def loadData(address):\n",
    "    df = pd.read_csv(address)\n",
    "    return df\n",
    "\n",
    "train = loadData(trainAddress)\n",
    "test = loadData(testAddress)\n",
    "\n",
    "def deletUnneededCol(data):\n",
    "    del data['Unnamed: 0']\n",
    "    del data[warehouse2_share]\n",
    "    del data[product_id]\n",
    "    return data\n",
    "\n",
    "train = deletUnneededCol(train)\n",
    "test = deletUnneededCol(test)"
   ]
  },
  {
   "cell_type": "markdown",
   "metadata": {},
   "source": [
    "## Dealing with noises"
   ]
  },
  {
   "cell_type": "code",
   "execution_count": 3,
   "metadata": {},
   "outputs": [],
   "source": [
    "def checkScories(data):\n",
    "    data['product_sat_score'] = data['product_sat_score'].fillna(-1)\n",
    "    data = data.drop(data[(data[product_sat_count] == 0) & (data[product_sat_score] != -1)].index)\n",
    "    data = data.drop(data[(data[product_sat_count] != 0) & (data[product_sat_score] == -1)].index)\n",
    "    return data\n",
    "\n",
    "train = checkScories(train)\n",
    "test = checkScories(test)"
   ]
  },
  {
   "cell_type": "code",
   "execution_count": 4,
   "metadata": {},
   "outputs": [],
   "source": [
    "def amazing_promotionNoiseDetection(train, checkList):\n",
    "    deletingIndex = []\n",
    "    for index, row in train.iterrows():\n",
    "        values = []\n",
    "        for i in range(5):\n",
    "            values.append(row[checkList[i]])\n",
    "        isOneNan = False\n",
    "        areAllNan = True\n",
    "        for value in values:\n",
    "            isNaN = np.isnan(value)\n",
    "            isOneNan = isOneNan or isNaN\n",
    "            areAllNan = areAllNan and isNaN\n",
    "        isOneZero = 0 in values\n",
    "        OneSitu = isOneZero or isOneNan\n",
    "        areAllZero = all(v == 0 for v in values)\n",
    "        AllSitu = areAllNan or areAllZero\n",
    "        if (OneSitu) and (not AllSitu):\n",
    "            deletingIndex.append(index)\n",
    "\n",
    "    for noiseIndex in deletingIndex:\n",
    "        train = train.drop(noiseIndex)\n",
    "    \n",
    "        \n",
    "amazing_promotionNoiseDetection(train, PromotionList)\n",
    "amazing_promotionNoiseDetection(train, AmazingList)\n",
    "\n",
    "amazing_promotionNoiseDetection(test, PromotionList)\n",
    "amazing_promotionNoiseDetection(test, AmazingList)"
   ]
  },
  {
   "cell_type": "markdown",
   "metadata": {},
   "source": [
    "# Dealing with missing values"
   ]
  },
  {
   "cell_type": "code",
   "execution_count": 5,
   "metadata": {
    "scrolled": true
   },
   "outputs": [],
   "source": [
    "def handleMissingValues(data):\n",
    "    ZeroToNanFeatures = [day, cat_name, leaf_cat_id, live_rate, normal_price_segment, holiday]\n",
    "    for feature in ZeroToNanFeatures:\n",
    "        data[feature] = data[feature].replace(0, np.nan)\n",
    "\n",
    "    ZeroToNanFeaturesAFTER = [product_sat_score, comments_counts_7]    \n",
    "    for feature in ZeroToNanFeaturesAFTER:\n",
    "        data[feature] = data[feature].replace(0, -100)\n",
    "\n",
    "    NantoZeroFeatures = [product_sat_score, comments_counts_7, rec_comments_count_7, dkp_amazing_notif_count_7]\n",
    "    for feature in NantoZeroFeatures:\n",
    "        data[feature] = data[feature].fillna(0)\n",
    "\n",
    "    for feature in ZeroToNanFeaturesAFTER:\n",
    "        data[feature] = data[feature].replace(-100, np.nan)\n",
    "\n",
    "    featureNaNReplace = [leaf_cat_id, live_rate, \n",
    "                            product_sat_count, product_sat_score,\n",
    "                            comments_counts_7, rec_comments_count_7,\n",
    "                            dkp_amazing_notif_count_7, holiday]\n",
    "\n",
    "    for feature in featureNaNReplace:\n",
    "        newVal = data[feature].median()\n",
    "        data[feature] = data[feature].fillna(newVal)\n",
    "\n",
    "    cat_name_mode = data[cat_name].mode()\n",
    "    data[cat_name] = data[cat_name].fillna(cat_name_mode)\n",
    "    return data\n",
    "\n",
    "train = handleMissingValues(train)\n",
    "test = handleMissingValues(test)"
   ]
  },
  {
   "cell_type": "markdown",
   "metadata": {},
   "source": [
    "# Categorical variables to numerical"
   ]
  },
  {
   "cell_type": "code",
   "execution_count": 6,
   "metadata": {},
   "outputs": [],
   "source": [
    "def fixCatName(data):\n",
    "    dummy = pd.get_dummies(data[cat_name])\n",
    "    data = pd.concat([data, dummy], axis = 1)\n",
    "    del data[cat_name]\n",
    "    return data\n",
    "    \n",
    "train = fixCatName(train)\n",
    "test = fixCatName(test)"
   ]
  },
  {
   "cell_type": "code",
   "execution_count": 7,
   "metadata": {},
   "outputs": [],
   "source": [
    "def fixHoliday(data):\n",
    "    data[holiday] = data[holiday].replace(1, 3)\n",
    "    data[holiday] = data[holiday].replace(0.2, 2)\n",
    "    data[holiday] = data[holiday].replace(0.1, 1)\n",
    "    return data\n",
    "\n",
    "train = fixHoliday(train)\n",
    "test = fixHoliday(test)"
   ]
  },
  {
   "cell_type": "markdown",
   "metadata": {},
   "source": [
    "#              Features normalization"
   ]
  },
  {
   "cell_type": "code",
   "execution_count": 8,
   "metadata": {},
   "outputs": [],
   "source": [
    "def scaleData(df, columns):\n",
    "    for column in columns:\n",
    "        scaler = RobustScaler()\n",
    "        unscaledData = np.array(df[column]).reshape(-1, 1)\n",
    "        scaledData = scaler.fit_transform(unscaledData)\n",
    "        df[column] = scaledData\n",
    "        \n",
    "features = list(train.columns.values)\n",
    "featuresSet = set(features)\n",
    "targetsSet = set(targets)\n",
    "features = list(featuresSet - targetsSet)\n",
    "features.remove(day)\n",
    "\n",
    "scaleData(train, features)\n",
    "scaleData(test, features)"
   ]
  },
  {
   "cell_type": "markdown",
   "metadata": {},
   "source": [
    "# Features selection"
   ]
  },
  {
   "cell_type": "markdown",
   "metadata": {},
   "source": [
    "### Split Data to 3 Datas\n",
    "#### 1. Normal\n",
    "#### 2. Amazing\n",
    "#### 3. Promotion"
   ]
  },
  {
   "cell_type": "code",
   "execution_count": 9,
   "metadata": {},
   "outputs": [],
   "source": [
    "from sklearn import decomposition\n",
    "\n",
    "PCAcomponents = 4\n",
    "\n",
    "def PCAFeature(train):\n",
    "    features = list(train.columns.values)\n",
    "    featuresSet = set(features)\n",
    "    targetsSet = set(targets)\n",
    "    features = list(featuresSet - targetsSet)\n",
    "    X = train[features].copy()\n",
    "    pca = decomposition.PCA(n_components=PCAcomponents)\n",
    "    pca.fit(X)\n",
    "    X = pca.transform(X)\n",
    "\n",
    "    return X"
   ]
  },
  {
   "cell_type": "code",
   "execution_count": 10,
   "metadata": {},
   "outputs": [],
   "source": [
    "def NormalPartData(train):\n",
    "    trainNormal = train.copy()\n",
    "    for feature in AmazingList:\n",
    "        del trainNormal[feature]\n",
    "    for feature in PromotionList:\n",
    "        del trainNormal[feature]\n",
    "    del trainNormal[promotion_sold_count]\n",
    "    del trainNormal[amazing_sold_count]\n",
    "    trainNormal = trainNormal[trainNormal[normal_order_limit].notna()]\n",
    "    trainNormal.reset_index(inplace=True)\n",
    "    del trainNormal['index']\n",
    "    X_Normal = PCAFeature(trainNormal)\n",
    "    X_Normal = pd.DataFrame(X_Normal)\n",
    "    trainNormal = pd.concat([trainNormal, X_Normal], axis=1)\n",
    "    for feature in commonFeatures:\n",
    "        del trainNormal[feature]\n",
    "    for feature in NormalList:\n",
    "        del trainNormal[feature]\n",
    "    return trainNormal\n",
    "\n",
    "trainNormal = NormalPartData(train)\n",
    "testNormal = NormalPartData(test)"
   ]
  },
  {
   "cell_type": "code",
   "execution_count": 11,
   "metadata": {},
   "outputs": [],
   "source": [
    "def PromotionPartData(train):\n",
    "    trainPromotion = train.copy()\n",
    "    for feature in AmazingList:\n",
    "        del trainPromotion[feature]\n",
    "    for feature in NormalList:\n",
    "        del trainPromotion[feature]\n",
    "    del trainPromotion[normal_sold_count]\n",
    "    del trainPromotion[amazing_sold_count]\n",
    "    # trainPromotion = trainPromotion[trainPromotion[promotion_day_rate].notna()]\n",
    "    # trainPromotion = trainPromotion[trainPromotion[promotion_order_limit].notna()]\n",
    "    trainPromotion = trainPromotion.dropna()\n",
    "    trainPromotion.reset_index(inplace=True)\n",
    "    del trainPromotion['index']\n",
    "    X_Promotion = PCAFeature(trainPromotion)\n",
    "    X_Promotion = pd.DataFrame(X_Promotion)\n",
    "    trainPromotion = pd.concat([trainPromotion, X_Promotion], axis=1)\n",
    "    for feature in commonFeatures:\n",
    "        del trainPromotion[feature]\n",
    "    for feature in PromotionList:\n",
    "        del trainPromotion[feature]\n",
    "    return trainPromotion\n",
    "        \n",
    "trainPromotion = PromotionPartData(train)\n",
    "testPromotion = PromotionPartData(test)"
   ]
  },
  {
   "cell_type": "code",
   "execution_count": 12,
   "metadata": {},
   "outputs": [],
   "source": [
    "def AmazingPartData(train):\n",
    "    trainAmazing = train.copy()\n",
    "    for feature in PromotionList:\n",
    "        del trainAmazing[feature]\n",
    "    for feature in NormalList:\n",
    "        del trainAmazing[feature]\n",
    "    del trainAmazing[normal_sold_count]\n",
    "    del trainAmazing[promotion_sold_count]\n",
    "    # trainAmazing = trainAmazing[trainAmazing[amazing_day_rate].notna()]\n",
    "    # trainAmazing = trainAmazing[trainAmazing[amazing_order_limit].notna()]\n",
    "    trainAmazing = trainAmazing.dropna()\n",
    "    trainAmazing.reset_index(inplace=True)\n",
    "    del trainAmazing['index']\n",
    "    X_Amazing = PCAFeature(trainAmazing)\n",
    "    X_Amazing = pd.DataFrame(X_Amazing)\n",
    "    trainAmazing = pd.concat([trainAmazing, X_Amazing], axis=1)\n",
    "    for feature in commonFeatures:\n",
    "        del trainAmazing[feature]\n",
    "    for feature in AmazingList:\n",
    "        del trainAmazing[feature]\n",
    "    return trainAmazing\n",
    "\n",
    "trainAmazing = AmazingPartData(train)\n",
    "testAmazing = AmazingPartData(test)"
   ]
  },
  {
   "cell_type": "markdown",
   "metadata": {},
   "source": [
    "# Building the Model"
   ]
  },
  {
   "cell_type": "code",
   "execution_count": 13,
   "metadata": {},
   "outputs": [],
   "source": [
    "from sklearn.metrics import mean_squared_error as MSE\n",
    "from sklearn.metrics import mean_absolute_error as MAE\n",
    "# from sklearn.metrics import mean_absolute_percentage_error as MAPE"
   ]
  },
  {
   "cell_type": "code",
   "execution_count": 14,
   "metadata": {},
   "outputs": [],
   "source": [
    "def splitData(train, targetNames):\n",
    "    attributesNames = [0, 1, 2, 3, day]\n",
    "    testSize = 0.25\n",
    "    xTrain, xTest, yTrain, yTest = train_test_split(train[attributesNames], train[targetNames], test_size=testSize)\n",
    "    return xTrain, xTest, yTrain, yTest"
   ]
  },
  {
   "cell_type": "code",
   "execution_count": 15,
   "metadata": {},
   "outputs": [],
   "source": [
    "def TrainAndTest(targetName, train, saleType):\n",
    "    targets = [warehouse1_share, targetName]\n",
    "    xTrain, xTest, yTrain, yTest = splitData(train, targets)\n",
    "\n",
    "    estimator = KNeighborsRegressor(n_neighbors= 12)\n",
    "    estimator.fit(xTrain, yTrain)\n",
    "    yPred = estimator.predict(xTest)\n",
    "    mse = MSE(yTest, yPred)\n",
    "    mae = MAE(yTest, yPred)\n",
    "    print('MSE for predection on', saleType,':' ,mse)\n",
    "    print('MAE for predection on', saleType,':' ,mae)"
   ]
  },
  {
   "cell_type": "code",
   "execution_count": 17,
   "metadata": {},
   "outputs": [
    {
     "name": "stdout",
     "output_type": "stream",
     "text": [
      "MSE for predection on normal : 81.45992969482306\n",
      "MAE for predection on normal : 2.763539131579966\n"
     ]
    }
   ],
   "source": [
    "TrainAndTest(normal_sold_count, trainNormal, 'normal')"
   ]
  },
  {
   "cell_type": "code",
   "execution_count": 18,
   "metadata": {},
   "outputs": [
    {
     "name": "stdout",
     "output_type": "stream",
     "text": [
      "MSE for predection on Amazing : 35155.50725276049\n",
      "MAE for predection on Amazing : 68.22476759908074\n"
     ]
    }
   ],
   "source": [
    "TrainAndTest(amazing_sold_count, trainAmazing, 'Amazing')"
   ]
  },
  {
   "cell_type": "code",
   "execution_count": 19,
   "metadata": {
    "scrolled": true
   },
   "outputs": [
    {
     "name": "stdout",
     "output_type": "stream",
     "text": [
      "MSE for predection on Promotion : 211.64899974686674\n",
      "MAE for predection on Promotion : 4.505521957319434\n"
     ]
    }
   ],
   "source": [
    "TrainAndTest(promotion_sold_count, trainPromotion, 'Promotion')"
   ]
  },
  {
   "cell_type": "markdown",
   "metadata": {},
   "source": [
    "## Predicting Test"
   ]
  },
  {
   "cell_type": "code",
   "execution_count": 39,
   "metadata": {},
   "outputs": [],
   "source": [
    "targetNames = [warehouse1_share, normal_sold_count]\n",
    "attributesNames = [0, 1, 2, 3, day]\n",
    "                                                    \n",
    "xTrain = trainNormal[attributesNames]\n",
    "xTest = testNormal[attributesNames]\n",
    "yTrain = trainNormal[targetNames]\n",
    "yTest = testNormal[targetNames]    \n",
    "\n",
    "estimator = KNeighborsRegressor(n_neighbors= 12)\n",
    "estimator.fit(xTrain, yTrain)\n",
    "yPred = estimator.predict(xTest)\n",
    "yPredDFNormal = pd.DataFrame(yPred, columns=[warehouse1_share, normal_sold_count])"
   ]
  },
  {
   "cell_type": "code",
   "execution_count": 40,
   "metadata": {},
   "outputs": [
    {
     "data": {
      "text/html": [
       "<div>\n",
       "<style scoped>\n",
       "    .dataframe tbody tr th:only-of-type {\n",
       "        vertical-align: middle;\n",
       "    }\n",
       "\n",
       "    .dataframe tbody tr th {\n",
       "        vertical-align: top;\n",
       "    }\n",
       "\n",
       "    .dataframe thead th {\n",
       "        text-align: right;\n",
       "    }\n",
       "</style>\n",
       "<table border=\"1\" class=\"dataframe\">\n",
       "  <thead>\n",
       "    <tr style=\"text-align: right;\">\n",
       "      <th></th>\n",
       "      <th>warehouse1_share</th>\n",
       "      <th>normal_sold_count</th>\n",
       "    </tr>\n",
       "  </thead>\n",
       "  <tbody>\n",
       "    <tr>\n",
       "      <th>0</th>\n",
       "      <td>0.078273</td>\n",
       "      <td>31.833333</td>\n",
       "    </tr>\n",
       "    <tr>\n",
       "      <th>1</th>\n",
       "      <td>0.214519</td>\n",
       "      <td>13.333333</td>\n",
       "    </tr>\n",
       "    <tr>\n",
       "      <th>2</th>\n",
       "      <td>0.125000</td>\n",
       "      <td>5.166667</td>\n",
       "    </tr>\n",
       "    <tr>\n",
       "      <th>3</th>\n",
       "      <td>0.333333</td>\n",
       "      <td>2.333333</td>\n",
       "    </tr>\n",
       "    <tr>\n",
       "      <th>4</th>\n",
       "      <td>0.392858</td>\n",
       "      <td>8.750000</td>\n",
       "    </tr>\n",
       "    <tr>\n",
       "      <th>...</th>\n",
       "      <td>...</td>\n",
       "      <td>...</td>\n",
       "    </tr>\n",
       "    <tr>\n",
       "      <th>29979</th>\n",
       "      <td>0.620876</td>\n",
       "      <td>15.750000</td>\n",
       "    </tr>\n",
       "    <tr>\n",
       "      <th>29980</th>\n",
       "      <td>0.394444</td>\n",
       "      <td>16.583333</td>\n",
       "    </tr>\n",
       "    <tr>\n",
       "      <th>29981</th>\n",
       "      <td>0.861111</td>\n",
       "      <td>2.250000</td>\n",
       "    </tr>\n",
       "    <tr>\n",
       "      <th>29982</th>\n",
       "      <td>0.663194</td>\n",
       "      <td>4.833333</td>\n",
       "    </tr>\n",
       "    <tr>\n",
       "      <th>29983</th>\n",
       "      <td>0.250000</td>\n",
       "      <td>2.000000</td>\n",
       "    </tr>\n",
       "  </tbody>\n",
       "</table>\n",
       "<p>29984 rows × 2 columns</p>\n",
       "</div>"
      ],
      "text/plain": [
       "       warehouse1_share  normal_sold_count\n",
       "0              0.078273          31.833333\n",
       "1              0.214519          13.333333\n",
       "2              0.125000           5.166667\n",
       "3              0.333333           2.333333\n",
       "4              0.392858           8.750000\n",
       "...                 ...                ...\n",
       "29979          0.620876          15.750000\n",
       "29980          0.394444          16.583333\n",
       "29981          0.861111           2.250000\n",
       "29982          0.663194           4.833333\n",
       "29983          0.250000           2.000000\n",
       "\n",
       "[29984 rows x 2 columns]"
      ]
     },
     "execution_count": 40,
     "metadata": {},
     "output_type": "execute_result"
    }
   ],
   "source": [
    "yPredDFNormal"
   ]
  },
  {
   "cell_type": "code",
   "execution_count": 42,
   "metadata": {},
   "outputs": [],
   "source": [
    "targetNames = [warehouse1_share, promotion_sold_count]\n",
    "attributesNames = [0, 1, 2, 3, day]\n",
    "                                                    \n",
    "xTrain = trainPromotion[attributesNames]\n",
    "xTest = testPromotion[attributesNames]\n",
    "yTrain = trainPromotion[targetNames]\n",
    "yTest = testPromotion[targetNames]    \n",
    "\n",
    "estimator = KNeighborsRegressor(n_neighbors= 12)\n",
    "estimator.fit(xTrain, yTrain)\n",
    "yPred = estimator.predict(xTest)\n",
    "yPredDFPromotion = pd.DataFrame(yPred, columns=[warehouse1_share, promotion_sold_count])"
   ]
  },
  {
   "cell_type": "code",
   "execution_count": 43,
   "metadata": {},
   "outputs": [
    {
     "data": {
      "text/html": [
       "<div>\n",
       "<style scoped>\n",
       "    .dataframe tbody tr th:only-of-type {\n",
       "        vertical-align: middle;\n",
       "    }\n",
       "\n",
       "    .dataframe tbody tr th {\n",
       "        vertical-align: top;\n",
       "    }\n",
       "\n",
       "    .dataframe thead th {\n",
       "        text-align: right;\n",
       "    }\n",
       "</style>\n",
       "<table border=\"1\" class=\"dataframe\">\n",
       "  <thead>\n",
       "    <tr style=\"text-align: right;\">\n",
       "      <th></th>\n",
       "      <th>warehouse1_share</th>\n",
       "      <th>promotion_sold_count</th>\n",
       "    </tr>\n",
       "  </thead>\n",
       "  <tbody>\n",
       "    <tr>\n",
       "      <th>0</th>\n",
       "      <td>0.225000</td>\n",
       "      <td>4.416667</td>\n",
       "    </tr>\n",
       "    <tr>\n",
       "      <th>1</th>\n",
       "      <td>0.291667</td>\n",
       "      <td>4.166667</td>\n",
       "    </tr>\n",
       "    <tr>\n",
       "      <th>2</th>\n",
       "      <td>0.087962</td>\n",
       "      <td>5.166667</td>\n",
       "    </tr>\n",
       "    <tr>\n",
       "      <th>3</th>\n",
       "      <td>0.291667</td>\n",
       "      <td>4.166667</td>\n",
       "    </tr>\n",
       "    <tr>\n",
       "      <th>4</th>\n",
       "      <td>0.160462</td>\n",
       "      <td>8.500000</td>\n",
       "    </tr>\n",
       "    <tr>\n",
       "      <th>...</th>\n",
       "      <td>...</td>\n",
       "      <td>...</td>\n",
       "    </tr>\n",
       "    <tr>\n",
       "      <th>13664</th>\n",
       "      <td>0.291666</td>\n",
       "      <td>2.833333</td>\n",
       "    </tr>\n",
       "    <tr>\n",
       "      <th>13665</th>\n",
       "      <td>0.809058</td>\n",
       "      <td>14.000000</td>\n",
       "    </tr>\n",
       "    <tr>\n",
       "      <th>13666</th>\n",
       "      <td>0.625000</td>\n",
       "      <td>1.916667</td>\n",
       "    </tr>\n",
       "    <tr>\n",
       "      <th>13667</th>\n",
       "      <td>0.666733</td>\n",
       "      <td>8.583333</td>\n",
       "    </tr>\n",
       "    <tr>\n",
       "      <th>13668</th>\n",
       "      <td>0.507746</td>\n",
       "      <td>6.500000</td>\n",
       "    </tr>\n",
       "  </tbody>\n",
       "</table>\n",
       "<p>13669 rows × 2 columns</p>\n",
       "</div>"
      ],
      "text/plain": [
       "       warehouse1_share  promotion_sold_count\n",
       "0              0.225000              4.416667\n",
       "1              0.291667              4.166667\n",
       "2              0.087962              5.166667\n",
       "3              0.291667              4.166667\n",
       "4              0.160462              8.500000\n",
       "...                 ...                   ...\n",
       "13664          0.291666              2.833333\n",
       "13665          0.809058             14.000000\n",
       "13666          0.625000              1.916667\n",
       "13667          0.666733              8.583333\n",
       "13668          0.507746              6.500000\n",
       "\n",
       "[13669 rows x 2 columns]"
      ]
     },
     "execution_count": 43,
     "metadata": {},
     "output_type": "execute_result"
    }
   ],
   "source": [
    "yPredDFPromotion"
   ]
  },
  {
   "cell_type": "code",
   "execution_count": 44,
   "metadata": {},
   "outputs": [],
   "source": [
    "targetNames = [warehouse1_share, amazing_sold_count]\n",
    "attributesNames = [0, 1, 2, 3, day]\n",
    "                                                    \n",
    "xTrain = trainAmazing[attributesNames]\n",
    "xTest = testAmazing[attributesNames]\n",
    "yTrain = trainAmazing[targetNames]\n",
    "yTest = testAmazing[targetNames]    \n",
    "\n",
    "estimator = KNeighborsRegressor(n_neighbors= 12)\n",
    "estimator.fit(xTrain, yTrain)\n",
    "yPred = estimator.predict(xTest)\n",
    "yPredDFAmazing = pd.DataFrame(yPred, columns=[warehouse1_share, amazing_sold_count])"
   ]
  },
  {
   "cell_type": "code",
   "execution_count": 45,
   "metadata": {},
   "outputs": [
    {
     "data": {
      "text/html": [
       "<div>\n",
       "<style scoped>\n",
       "    .dataframe tbody tr th:only-of-type {\n",
       "        vertical-align: middle;\n",
       "    }\n",
       "\n",
       "    .dataframe tbody tr th {\n",
       "        vertical-align: top;\n",
       "    }\n",
       "\n",
       "    .dataframe thead th {\n",
       "        text-align: right;\n",
       "    }\n",
       "</style>\n",
       "<table border=\"1\" class=\"dataframe\">\n",
       "  <thead>\n",
       "    <tr style=\"text-align: right;\">\n",
       "      <th></th>\n",
       "      <th>warehouse1_share</th>\n",
       "      <th>amazing_sold_count</th>\n",
       "    </tr>\n",
       "  </thead>\n",
       "  <tbody>\n",
       "    <tr>\n",
       "      <th>0</th>\n",
       "      <td>0.399697</td>\n",
       "      <td>38.416667</td>\n",
       "    </tr>\n",
       "    <tr>\n",
       "      <th>1</th>\n",
       "      <td>0.318329</td>\n",
       "      <td>180.833333</td>\n",
       "    </tr>\n",
       "    <tr>\n",
       "      <th>2</th>\n",
       "      <td>0.251067</td>\n",
       "      <td>204.000000</td>\n",
       "    </tr>\n",
       "    <tr>\n",
       "      <th>3</th>\n",
       "      <td>0.101986</td>\n",
       "      <td>282.416667</td>\n",
       "    </tr>\n",
       "    <tr>\n",
       "      <th>4</th>\n",
       "      <td>0.206189</td>\n",
       "      <td>239.916667</td>\n",
       "    </tr>\n",
       "    <tr>\n",
       "      <th>...</th>\n",
       "      <td>...</td>\n",
       "      <td>...</td>\n",
       "    </tr>\n",
       "    <tr>\n",
       "      <th>2055</th>\n",
       "      <td>0.273180</td>\n",
       "      <td>190.416667</td>\n",
       "    </tr>\n",
       "    <tr>\n",
       "      <th>2056</th>\n",
       "      <td>0.261997</td>\n",
       "      <td>344.333333</td>\n",
       "    </tr>\n",
       "    <tr>\n",
       "      <th>2057</th>\n",
       "      <td>0.336390</td>\n",
       "      <td>138.250000</td>\n",
       "    </tr>\n",
       "    <tr>\n",
       "      <th>2058</th>\n",
       "      <td>0.401797</td>\n",
       "      <td>349.666667</td>\n",
       "    </tr>\n",
       "    <tr>\n",
       "      <th>2059</th>\n",
       "      <td>0.340073</td>\n",
       "      <td>168.333333</td>\n",
       "    </tr>\n",
       "  </tbody>\n",
       "</table>\n",
       "<p>2060 rows × 2 columns</p>\n",
       "</div>"
      ],
      "text/plain": [
       "      warehouse1_share  amazing_sold_count\n",
       "0             0.399697           38.416667\n",
       "1             0.318329          180.833333\n",
       "2             0.251067          204.000000\n",
       "3             0.101986          282.416667\n",
       "4             0.206189          239.916667\n",
       "...                ...                 ...\n",
       "2055          0.273180          190.416667\n",
       "2056          0.261997          344.333333\n",
       "2057          0.336390          138.250000\n",
       "2058          0.401797          349.666667\n",
       "2059          0.340073          168.333333\n",
       "\n",
       "[2060 rows x 2 columns]"
      ]
     },
     "execution_count": 45,
     "metadata": {},
     "output_type": "execute_result"
    }
   ],
   "source": [
    "yPredDFAmazing"
   ]
  },
  {
   "cell_type": "code",
   "execution_count": null,
   "metadata": {},
   "outputs": [],
   "source": []
  }
 ],
 "metadata": {
  "kernelspec": {
   "display_name": "Python 3",
   "language": "python",
   "name": "python3"
  },
  "language_info": {
   "codemirror_mode": {
    "name": "ipython",
    "version": 3
   },
   "file_extension": ".py",
   "mimetype": "text/x-python",
   "name": "python",
   "nbconvert_exporter": "python",
   "pygments_lexer": "ipython3",
   "version": "3.8.3"
  }
 },
 "nbformat": 4,
 "nbformat_minor": 4
}
